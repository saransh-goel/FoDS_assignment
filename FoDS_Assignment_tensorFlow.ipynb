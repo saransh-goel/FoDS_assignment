{
  "nbformat": 4,
  "nbformat_minor": 0,
  "metadata": {
    "colab": {
      "name": "tensorFlow.ipynb",
      "provenance": []
    },
    "kernelspec": {
      "name": "python3",
      "display_name": "Python 3"
    },
    "language_info": {
      "name": "python"
    }
  },
  "cells": [
    {
      "cell_type": "code",
      "metadata": {
        "colab": {
          "base_uri": "https://localhost:8080/"
        },
        "id": "hUfDlBGP8S88",
        "outputId": "cea1c25b-2de1-4991-e0ec-d9e4fc043402"
      },
      "source": [
        "import tensorflow as tf\n",
        "import numpy as np\n",
        "\n",
        "matrix1 = np.array([(2,2,2),(2,2,2),(2,2,2)],dtype = 'int32')\n",
        "matrix2 = np.array([(1,1,1),(1,1,1),(1,1,1)],dtype = 'int32')\n",
        "print (matrix1)\n",
        "print (matrix2)\n",
        "matrix1 = tf.constant(matrix1)\n",
        "matrix2 = tf.constant(matrix2)\n",
        "matrix_product = tf.matmul(matrix1, matrix2)\n",
        "matrix_sum = tf.add(matrix1,matrix2)\n",
        "matrix_3 = np.array([(2,7,2),(1,4,2),(9,0,2)],dtype = 'float32')\n",
        "print (matrix_3)\n",
        "print (\"matrix 1 = \",matrix1)\n",
        "print (\"matrix 2 = \",matrix2)\n",
        "print (\"matrix 1 + matrix 2 = \",matrix_sum)\n",
        "print (\"matrix 1 * matrix 2 = \",matrix_product)"
      ],
      "execution_count": 1,
      "outputs": [
        {
          "output_type": "stream",
          "name": "stdout",
          "text": [
            "[[2 2 2]\n",
            " [2 2 2]\n",
            " [2 2 2]]\n",
            "[[1 1 1]\n",
            " [1 1 1]\n",
            " [1 1 1]]\n",
            "[[2. 7. 2.]\n",
            " [1. 4. 2.]\n",
            " [9. 0. 2.]]\n",
            "matrix 1 =  tf.Tensor(\n",
            "[[2 2 2]\n",
            " [2 2 2]\n",
            " [2 2 2]], shape=(3, 3), dtype=int32)\n",
            "matrix 2 =  tf.Tensor(\n",
            "[[1 1 1]\n",
            " [1 1 1]\n",
            " [1 1 1]], shape=(3, 3), dtype=int32)\n",
            "matrix 1 + matrix 2 =  tf.Tensor(\n",
            "[[3 3 3]\n",
            " [3 3 3]\n",
            " [3 3 3]], shape=(3, 3), dtype=int32)\n",
            "matrix 1 * matrix 2 =  tf.Tensor(\n",
            "[[6 6 6]\n",
            " [6 6 6]\n",
            " [6 6 6]], shape=(3, 3), dtype=int32)\n"
          ]
        }
      ]
    }
  ]
}