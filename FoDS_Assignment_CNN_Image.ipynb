{
  "nbformat": 4,
  "nbformat_minor": 0,
  "metadata": {
    "colab": {
      "name": "CNN_Image.ipynb",
      "provenance": [],
      "collapsed_sections": []
    },
    "kernelspec": {
      "name": "python3",
      "display_name": "Python 3"
    },
    "language_info": {
      "name": "python"
    }
  },
  "cells": [
    {
      "cell_type": "code",
      "metadata": {
        "colab": {
          "base_uri": "https://localhost:8080/"
        },
        "id": "MY8fIyAPgJ6_",
        "outputId": "ff1960bf-7e6a-41f8-cfac-a5f1cfe5daf5"
      },
      "source": [
        "# Tools and library used\n",
        "\n",
        "# Keras: Keras has an Image Data Preprocessing class that allows us to perform data augmentation seamlessly. \n",
        "# Matplotlib: One of the most popular data visualization libraries in Python. It allows us to create figures and plots and makes it very easy to produce static raster or vector files without the need for any GUIs.\n",
        "# Numpy: A very useful library for performing mathematical and logical operations on Arrays. We’ll be using its expand_dim class to expand the shape of an array in this tutorial.\n",
        "\n",
        "# from keras.preprocessing import image\n",
        " \n",
        "# img = image.load_img('train/'+train['id'][i].astype('str')+'.png', target_size=(28,28,1), grayscale=True)\n",
        " \n",
        "# \timg = image.img_to_array(img)\n",
        "# \timg = img/255\n",
        "\n",
        "from keras.datasets import cifar10\n",
        "from keras.models import Sequential\n",
        "from keras.layers import Dense, Dropout, Conv2D, MaxPool2D, Flatten\n",
        "from keras.utils import np_utils\n",
        "import matplotlib.pyplot as plt\n",
        "# loading the dataset\n",
        "(X_train, y_train), (X_test, y_test) = cifar10.load_data()\n",
        "\n",
        "# # building the input vector from the 32x32 pixels\n",
        "X_train = X_train.reshape(X_train.shape[0], 32, 32, 3)\n",
        "X_test = X_test.reshape(X_test.shape[0], 32, 32, 3)\n",
        "X_train = X_train.astype('float32')\n",
        "X_test = X_test.astype('float32')\n",
        "\n",
        "# normalizing the data to help with the training\n",
        "X_train /= 255\n",
        "X_test /= 255\n",
        "\n",
        "# one-hot encoding using keras' numpy-related utilities\n",
        "n_classes = 10\n",
        "print(\"Shape before one-hot encoding: \", y_train.shape)\n",
        "Y_train = np_utils.to_categorical(y_train, n_classes)\n",
        "Y_test = np_utils.to_categorical(y_test, n_classes)\n",
        "print(\"Shape after one-hot encoding: \", Y_train.shape)\n",
        "\n",
        "# building a linear stack of layers with the sequential model\n",
        "model = Sequential()\n",
        "\n",
        "# convolutional layer\n",
        "model.add(Conv2D(50, kernel_size=(3,3), strides=(1,1), padding='same', activation='relu', input_shape=(32, 32, 3)))\n",
        "\n",
        "# convolutional layer\n",
        "model.add(Conv2D(75, kernel_size=(3,3), strides=(1,1), padding='same', activation='relu'))\n",
        "model.add(MaxPool2D(pool_size=(2,2)))\n",
        "model.add(Dropout(0.25))\n",
        "\n",
        "model.add(Conv2D(125, kernel_size=(3,3), strides=(1,1), padding='same', activation='relu'))\n",
        "model.add(MaxPool2D(pool_size=(2,2)))\n",
        "model.add(Dropout(0.25))\n",
        "\n",
        "# flatten output of conv\n",
        "model.add(Flatten())\n",
        "\n",
        "# hidden layer\n",
        "model.add(Dense(500, activation='relu'))\n",
        "model.add(Dropout(0.4))\n",
        "model.add(Dense(250, activation='relu'))\n",
        "model.add(Dropout(0.3))\n",
        "# output layer\n",
        "model.add(Dense(10, activation='softmax'))\n",
        "\n",
        "# compiling the sequential model\n",
        "model.compile(loss='categorical_crossentropy', metrics=['accuracy'], optimizer='adam')\n",
        "\n",
        "# training the model for 10 epochs\n",
        "model.fit(X_train, Y_train, batch_size=128, epochs=10, validation_data=(X_test, Y_test))\n"
      ],
      "execution_count": 1,
      "outputs": [
        {
          "output_type": "stream",
          "name": "stdout",
          "text": [
            "Downloading data from https://www.cs.toronto.edu/~kriz/cifar-10-python.tar.gz\n",
            "170500096/170498071 [==============================] - 3s 0us/step\n",
            "170508288/170498071 [==============================] - 3s 0us/step\n",
            "Shape before one-hot encoding:  (50000, 1)\n",
            "Shape after one-hot encoding:  (50000, 10)\n",
            "Epoch 1/10\n",
            "391/391 [==============================] - 541s 1s/step - loss: 1.5707 - accuracy: 0.4223 - val_loss: 1.1963 - val_accuracy: 0.5771\n",
            "Epoch 2/10\n",
            "391/391 [==============================] - 539s 1s/step - loss: 1.0866 - accuracy: 0.6179 - val_loss: 0.9627 - val_accuracy: 0.6758\n",
            "Epoch 3/10\n",
            "391/391 [==============================] - 536s 1s/step - loss: 0.9018 - accuracy: 0.6856 - val_loss: 0.7882 - val_accuracy: 0.7279\n",
            "Epoch 4/10\n",
            "391/391 [==============================] - 536s 1s/step - loss: 0.7881 - accuracy: 0.7255 - val_loss: 0.7377 - val_accuracy: 0.7495\n",
            "Epoch 5/10\n",
            "391/391 [==============================] - 534s 1s/step - loss: 0.7070 - accuracy: 0.7536 - val_loss: 0.7092 - val_accuracy: 0.7507\n",
            "Epoch 6/10\n",
            "391/391 [==============================] - 533s 1s/step - loss: 0.6420 - accuracy: 0.7738 - val_loss: 0.6864 - val_accuracy: 0.7624\n",
            "Epoch 7/10\n",
            "391/391 [==============================] - 535s 1s/step - loss: 0.5913 - accuracy: 0.7931 - val_loss: 0.6821 - val_accuracy: 0.7684\n",
            "Epoch 8/10\n",
            "391/391 [==============================] - 536s 1s/step - loss: 0.5393 - accuracy: 0.8100 - val_loss: 0.6549 - val_accuracy: 0.7752\n",
            "Epoch 9/10\n",
            "391/391 [==============================] - 538s 1s/step - loss: 0.5007 - accuracy: 0.8229 - val_loss: 0.6258 - val_accuracy: 0.7881\n",
            "Epoch 10/10\n",
            "391/391 [==============================] - 538s 1s/step - loss: 0.4647 - accuracy: 0.8378 - val_loss: 0.6582 - val_accuracy: 0.7748\n"
          ]
        },
        {
          "output_type": "execute_result",
          "data": {
            "text/plain": [
              "<keras.callbacks.History at 0x7fb2b4d68c10>"
            ]
          },
          "metadata": {},
          "execution_count": 1
        }
      ]
    },
    {
      "cell_type": "code",
      "metadata": {
        "colab": {
          "base_uri": "https://localhost:8080/",
          "height": 283
        },
        "id": "Nba46qcg1E52",
        "outputId": "a78d4c8a-27b4-4d81-f85d-32a1046aa360"
      },
      "source": [
        "import matplotlib.pyplot as plt\n",
        "import numpy as np\n",
        "img = X_test[130]\n",
        "test_img = img.reshape((1,3072))\n",
        "y_pred = model.predict(X_test)\n",
        "y_pred = np.round(y_pred).astype(int)\n",
        "# img_class = model.predict_classes(test_img)\n",
        "# prediction = img_class[0]\n",
        "# classname = img_class[0]\n",
        "# print(\"Class: \",classname)\n",
        "# img = img.reshape((28,28))\n",
        "plt.imshow(img)\n",
        "# plt.title(classname)\n",
        "# plt.show()"
      ],
      "execution_count": 8,
      "outputs": [
        {
          "output_type": "execute_result",
          "data": {
            "text/plain": [
              "<matplotlib.image.AxesImage at 0x7fb2b4aabb50>"
            ]
          },
          "metadata": {},
          "execution_count": 8
        },
        {
          "output_type": "display_data",
          "data": {
            "image/png": "[encoded data removed]",
            "text/plain": [
              "<Figure size 432x288 with 1 Axes>"
            ]
          },
          "metadata": {
            "needs_background": "light"
          }
        }
      ]
    },
    {
      "cell_type": "code",
      "metadata": {
        "colab": {
          "base_uri": "https://localhost:8080/"
        },
        "id": "JDenQ2Xk2qZX",
        "outputId": "d443fb0a-3cdd-477f-82e3-44c402966d0a"
      },
      "source": [
        "y_pred"
      ],
      "execution_count": 10,
      "outputs": [
        {
          "output_type": "execute_result",
          "data": {
            "text/plain": [
              "array([[0, 0, 0, ..., 0, 0, 0],\n",
              "       [0, 0, 0, ..., 0, 1, 0],\n",
              "       [0, 0, 0, ..., 0, 0, 0],\n",
              "       ...,\n",
              "       [0, 0, 0, ..., 0, 0, 0],\n",
              "       [0, 1, 0, ..., 0, 0, 0],\n",
              "       [0, 0, 0, ..., 1, 0, 0]])"
            ]
          },
          "metadata": {},
          "execution_count": 10
        }
      ]
    }
  ]
}